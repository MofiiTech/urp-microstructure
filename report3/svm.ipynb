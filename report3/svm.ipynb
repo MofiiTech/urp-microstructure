{
 "cells": [
  {
   "cell_type": "code",
   "execution_count": 1,
   "metadata": {},
   "outputs": [],
   "source": [
    "import os\n",
    "import cv2\n",
    "import glob\n",
    "import numpy as np\n",
    "\n",
    "import matplotlib.pyplot as plt\n",
    "\n",
    "from microstructure import features, preprocessing, dimension_reduction, classifiers, regression\n",
    "\n",
    "from sklearn.model_selection import StratifiedKFold\n",
    "\n",
    "from telegram.utils import send_ok"
   ]
  },
  {
   "cell_type": "code",
   "execution_count": 2,
   "metadata": {},
   "outputs": [],
   "source": [
    "dir_path = '/Users/mofii/Documents/workplace/microstructure-partII'\n",
    "data_path = 'data'\n",
    "classes = ['DUM555', 'DUM560', 'DUM562', 'DUM587', 'DUM588']"
   ]
  },
  {
   "cell_type": "code",
   "execution_count": 9,
   "metadata": {},
   "outputs": [
    {
     "name": "stderr",
     "output_type": "stream",
     "text": [
      "/Users/mofii/anaconda3/envs/microstructure/lib/python3.6/site-packages/skimage/feature/_hog.py:150: skimage_deprecation: Default value of `block_norm`==`L1` is deprecated and will be changed to `L2-Hys` in v0.15. To supress this message specify explicitly the normalization method.\n",
      "  skimage_deprecation)\n",
      "/Users/mofii/anaconda3/envs/microstructure/lib/python3.6/site-packages/microstructure/features.py:103: VisibleDeprecationWarning: Passing `normed=True` on non-uniform bins has always been broken, and computes neither the probability density function nor the probability mass function. The result is only correct if the bins are uniform, when density=True will produce the same result anyway. The argument will be removed in a future version of numpy.\n",
      "  h, _ = np.histogram(lbp, normed=True, bins=P + 2, range=(0, P + 2))\n"
     ]
    },
    {
     "name": "stdout",
     "output_type": "stream",
     "text": [
      "(13, 13)\n",
      "(13, 38400)\n",
      "(13, 12)\n",
      "(13, 7)\n",
      "(13, 25)\n",
      "(13, 1000)\n",
      "(13, 1000)\n",
      "13\n"
     ]
    }
   ],
   "source": [
    "haralick = []\n",
    "hog = []\n",
    "lbp = []\n",
    "hu = []\n",
    "zernike = []\n",
    "vgg = []\n",
    "inception = []\n",
    "Y = []\n",
    "names = glob.glob(dir_path + '/' + data_path + '/test/*.tif')\n",
    "haralick = features.haralick_features(names)\n",
    "hog = features.hog_features(names)\n",
    "lbp = features.lbp_features(names)\n",
    "hu = features.hu_moments(names)\n",
    "zernike = features.zernike_moments(names)\n",
    "vgg = features.VGG(names)\n",
    "inception = features.inception(names)\n",
    "Y += [0] * len(names)\n",
    "print(haralick.shape)\n",
    "print(hog.shape)\n",
    "print(lbp.shape)\n",
    "print(hu.shape)\n",
    "print(zernike.shape)\n",
    "print(vgg.shape)\n",
    "print(inception.shape)\n",
    "print(len(Y))"
   ]
  },
  {
   "cell_type": "code",
   "execution_count": 15,
   "metadata": {},
   "outputs": [
    {
     "name": "stderr",
     "output_type": "stream",
     "text": [
      "/Users/mofii/anaconda3/envs/microstructure/lib/python3.6/site-packages/skimage/feature/_hog.py:150: skimage_deprecation: Default value of `block_norm`==`L1` is deprecated and will be changed to `L2-Hys` in v0.15. To supress this message specify explicitly the normalization method.\n",
      "  skimage_deprecation)\n",
      "/Users/mofii/anaconda3/envs/microstructure/lib/python3.6/site-packages/microstructure/features.py:103: VisibleDeprecationWarning: Passing `normed=True` on non-uniform bins has always been broken, and computes neither the probability density function nor the probability mass function. The result is only correct if the bins are uniform, when density=True will produce the same result anyway. The argument will be removed in a future version of numpy.\n",
      "  h, _ = np.histogram(lbp, normed=True, bins=P + 2, range=(0, P + 2))\n"
     ]
    }
   ],
   "source": [
    "haralick = []\n",
    "hog = []\n",
    "lbp = []\n",
    "hu = []\n",
    "zernike = []\n",
    "vgg = []\n",
    "inception = []\n",
    "Y = []\n",
    "for i in range(len(classes)):\n",
    "    names = glob.glob(dir_path + '/' + data_path + '/' + classes[i] + '/*.tif')\n",
    "    if i == 0:\n",
    "        haralick = features.haralick_features(names)\n",
    "        hog = features.hog_features(names)\n",
    "        lbp = features.lbp_features(names)\n",
    "        hu = features.hu_moments(names)\n",
    "        zernike = features.zernike_moments(names)\n",
    "        vgg = features.VGG(names)\n",
    "        inception = features.inception(names)\n",
    "    else:\n",
    "        haralick = np.vstack((haralick, features.haralick_features(names)))\n",
    "        hog = np.vstack((hog, features.hog_features(names)))\n",
    "        lbp = np.vstack((lbp, features.lbp_features(names)))\n",
    "        hu = np.vstack((hu, features.hu_moments(names)))\n",
    "        zernike = np.vstack((zernike, features.zernike_moments(names)))\n",
    "        vgg = np.vstack((vgg, features.VGG(names)))\n",
    "        inception = np.vstack((inception, features.inception(names)))\n",
    "    Y += [i] * len(names)\n",
    "Y = np.asarray(Y)"
   ]
  },
  {
   "cell_type": "code",
   "execution_count": 16,
   "metadata": {},
   "outputs": [
    {
     "name": "stdout",
     "output_type": "stream",
     "text": [
      "(527, 13)\n",
      "(527, 38400)\n",
      "(527, 12)\n",
      "(527, 7)\n",
      "(527, 25)\n",
      "(527, 1000)\n",
      "(527, 1000)\n",
      "(527,)\n"
     ]
    }
   ],
   "source": [
    "print(haralick.shape)\n",
    "print(hog.shape)\n",
    "print(lbp.shape)\n",
    "print(hu.shape)\n",
    "print(zernike.shape)\n",
    "print(vgg.shape)\n",
    "print(inception.shape)\n",
    "print(Y.shape)"
   ]
  },
  {
   "cell_type": "code",
   "execution_count": 36,
   "metadata": {},
   "outputs": [],
   "source": [
    "skf = StratifiedKFold(n_splits=5)\n",
    "a = []\n",
    "f = []\n",
    "p = []\n",
    "r = []\n",
    "rr = []\n",
    "m = []"
   ]
  },
  {
   "cell_type": "code",
   "execution_count": null,
   "metadata": {},
   "outputs": [
    {
     "name": "stdout",
     "output_type": "stream",
     "text": [
      "<class 'numpy.int64'>\n"
     ]
    },
    {
     "name": "stderr",
     "output_type": "stream",
     "text": [
      "/Users/mofii/anaconda3/envs/microstructure/lib/python3.6/site-packages/sklearn/model_selection/_search.py:841: DeprecationWarning: The default of the `iid` parameter will change from True to False in version 0.22 and will be removed in 0.24. This will change numeric results when test-set sizes are unequal.\n",
      "  DeprecationWarning)\n"
     ]
    },
    {
     "name": "stdout",
     "output_type": "stream",
     "text": [
      "<class 'numpy.int64'>\n"
     ]
    },
    {
     "name": "stderr",
     "output_type": "stream",
     "text": [
      "/Users/mofii/anaconda3/envs/microstructure/lib/python3.6/site-packages/sklearn/model_selection/_search.py:841: DeprecationWarning: The default of the `iid` parameter will change from True to False in version 0.22 and will be removed in 0.24. This will change numeric results when test-set sizes are unequal.\n",
      "  DeprecationWarning)\n"
     ]
    },
    {
     "name": "stdout",
     "output_type": "stream",
     "text": [
      "<class 'numpy.int64'>\n"
     ]
    },
    {
     "name": "stderr",
     "output_type": "stream",
     "text": [
      "/Users/mofii/anaconda3/envs/microstructure/lib/python3.6/site-packages/sklearn/model_selection/_search.py:841: DeprecationWarning: The default of the `iid` parameter will change from True to False in version 0.22 and will be removed in 0.24. This will change numeric results when test-set sizes are unequal.\n",
      "  DeprecationWarning)\n"
     ]
    },
    {
     "name": "stdout",
     "output_type": "stream",
     "text": [
      "<class 'numpy.int64'>\n"
     ]
    },
    {
     "name": "stderr",
     "output_type": "stream",
     "text": [
      "/Users/mofii/anaconda3/envs/microstructure/lib/python3.6/site-packages/sklearn/model_selection/_search.py:841: DeprecationWarning: The default of the `iid` parameter will change from True to False in version 0.22 and will be removed in 0.24. This will change numeric results when test-set sizes are unequal.\n",
      "  DeprecationWarning)\n"
     ]
    },
    {
     "name": "stdout",
     "output_type": "stream",
     "text": [
      "<class 'numpy.int64'>\n"
     ]
    }
   ],
   "source": [
    "for train_index, test_index in skf.split(np.zeros((len(Y), 1)), Y):\n",
    "    print(type(train_index[0]))\n",
    "    train_labels = Y[train_index]\n",
    "    test_labels = Y[test_index]\n",
    "    train = vgg[train_index]\n",
    "    test = vgg[test_index]\n",
    "\n",
    "    train, test, _ = preprocessing.preprocessing(train, test)\n",
    "\n",
    "    train, test = dimension_reduction.principal_components(train, test)\n",
    "\n",
    "    acc, f1, prec, rec, conf, probs, pred = classifiers.svmachine(train, train_labels, test, test_labels)\n",
    "    a.append(acc)\n",
    "    f.append(f1)\n",
    "    p.append(prec)\n",
    "    r.append(rec)\n",
    "    \n",
    "    reg_train_labels = np.random.rand(len(train_labels), 1)\n",
    "    reg_test_labels = np.random.rand(len(test_labels), 1)\n",
    "    r2, mse = regression.linear_regression(train, test, reg_train_labels, reg_test_labels)\n",
    "    rr.append(r2)\n",
    "    m.append(mse)\n",
    "send_ok()"
   ]
  },
  {
   "cell_type": "code",
   "execution_count": null,
   "metadata": {},
   "outputs": [],
   "source": [
    "print('Accuracy:', np.mean(a))\n",
    "print('F1 - score:', np.mean(f))\n",
    "print('Precision:', np.mean(p))\n",
    "print('Recall:', np.mean(r))\n",
    "\n",
    "print(\"R2-score \" + str(np.mean(rr)))\n",
    "print(\"Mean square error \" + str(np.mean(m)))"
   ]
  }
 ],
 "metadata": {
  "kernelspec": {
   "display_name": "Python 3",
   "language": "python",
   "name": "python3"
  },
  "language_info": {
   "codemirror_mode": {
    "name": "ipython",
    "version": 3
   },
   "file_extension": ".py",
   "mimetype": "text/x-python",
   "name": "python",
   "nbconvert_exporter": "python",
   "pygments_lexer": "ipython3",
   "version": "3.6.6"
  }
 },
 "nbformat": 4,
 "nbformat_minor": 2
}
